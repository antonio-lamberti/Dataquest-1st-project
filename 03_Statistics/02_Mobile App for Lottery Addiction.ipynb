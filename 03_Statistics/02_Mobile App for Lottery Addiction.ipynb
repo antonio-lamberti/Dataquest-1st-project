{
 "cells": [
  {
   "cell_type": "markdown",
   "metadata": {},
   "source": [
    "# Fighting Lottery Addiction\n",
    "\n",
    "\n",
    "We work for a medical institute aiming to prevent and treat gambling addictions. Many people start playing the lottery for fun, but for some, it escalates into addiction. Like other compulsive gamblers, lottery addicts start to accumulate debts and eventually engage in desperate behavior.\n",
    "\n",
    "Our goal is to build a dedicated mobile app to help addicts estimate their chances of winning.\n",
    "\n",
    "For the first version of the app, we will focus on the 6/49 lottery.,\n",
    "Six numbers are drawn from a set of 49. If a ticket matches all six numbers, the jackpot prize of at least 5,000,000 is won. A bonus number is also drawn, and if a player's ticket matches five numbers and the bonus number, the player wins the \"second prize,\" which is usually between 100,000 and 500,000. If the top prize is not won, the jackpot prize increases for the next draw.\n",
    "\n",
    "We aim to define functions that will help the user to answer the below questions:\n",
    "\n",
    "\n",
    "  - What is the probability of winning the big prize with a single ticket?\n",
    "  - What is the likelihood of winning the big prize if we play 40 different tickets (or any other number)?\n",
    "  - What is the probability of having at least five (or four, or three, or two) winning numbers on a single ticket?\n",
    "  \n",
    "\n",
    "## Defining helper functions\n",
    "\n",
    "Throughout the project, we'll need to calculate repeatedly probabilities and combinations. As a consequence, we'll start by writing two functions that we'll use often:\n",
    "\n",
    "  - A function that calculates factorials; and\n",
    "  - A function that calculates combinations.\n",
    "  \n",
    "Let's start by defining the function `factorial.`\n",
    "we will use the below formula:\n",
    "\n",
    "                n! = n.(n-1).(n-2). ... . 2.1"
   ]
  },
  {
   "cell_type": "code",
   "execution_count": 1,
   "metadata": {
    "collapsed": true
   },
   "outputs": [],
   "source": [
    "def factorial(n):\n",
    "    '''\n",
    "    Return the factorial of a number n.\n",
    "    \n",
    "    Example: factorial (3) returns 6\n",
    "    Value returned is an Integer\n",
    "    \n",
    "    parameter n: number we want to calculate the factorial for\n",
    "    precondition: n is an integer\n",
    "    '''\n",
    "    result = n\n",
    "    \n",
    "    for i in range(1,n):\n",
    "        result *= (n-i)\n",
    "    \n",
    "    return result   \n",
    "    \n",
    "    "
   ]
  },
  {
   "cell_type": "code",
   "execution_count": 2,
   "metadata": {
    "collapsed": false
   },
   "outputs": [],
   "source": [
    "# testing the function factorial\n",
    "import numpy as np\n",
    "\n",
    "# test case factorial 3\n",
    "result = 6\n",
    "np.testing.assert_equal(factorial(3),result)\n",
    "\n",
    "# test case factorial 6\n",
    "result= 720\n",
    "\n",
    "np.testing.assert_equal(factorial(6),result)\n"
   ]
  },
  {
   "cell_type": "markdown",
   "metadata": {},
   "source": [
    "In the 6/49 lottery, six numbers are drawn from 49 numbers that range from 1 to 49. The drawing is done without replacement, which means that it's not put back in the set once a number is drawn.\n",
    "\n",
    "To find the number of combinations when we're sampling without replacement and taking only k objects from a group of n objects, we can use the formula:\n",
    "\n",
    "\n",
    "                nCk=(nk)=n!/k!(n−k)!"
   ]
  },
  {
   "cell_type": "code",
   "execution_count": 3,
   "metadata": {
    "collapsed": true
   },
   "outputs": [],
   "source": [
    "def combinations(n,k):\n",
    "    '''\n",
    "    Return all possible combinations of taking k objects from a group of n objects.\n",
    "    \n",
    "    Example: Combination n = 10 k =2 returns 45\n",
    "    \n",
    "    Value returned is an integer\n",
    "    \n",
    "    Parameter n: the set or population\n",
    "    Precondition: n is an integer\n",
    "    \n",
    "    Parameter k: the subset of n or sample set\n",
    "    Precondition: k is an integer\n",
    "    '''\n",
    "    nominator = factorial(n)\n",
    "    denominator = factorial(k)*factorial(n-k)\n",
    "    \n",
    "    return nominator / denominator\n",
    "    \n",
    "    "
   ]
  },
  {
   "cell_type": "code",
   "execution_count": 4,
   "metadata": {
    "collapsed": false
   },
   "outputs": [],
   "source": [
    "#testing the function combination\n",
    "\n",
    "# test case n = 10 k= 2\n",
    "result = 45\n",
    "np.testing.assert_equal(combinations(10,2),result)\n",
    "\n",
    "# test case n = 20 k=5\n",
    "result = 15504\n",
    "np.testing.assert_equal(combinations(20,5),result)"
   ]
  },
  {
   "cell_type": "markdown",
   "metadata": {},
   "source": [
    "## Probability of winning the big prize\n",
    "\n",
    "In the 6/49 lottery, six numbers are drawn from 49 numbers that range from 1 to 49. A player wins the big prize if the six numbers on their tickets match all the six numbers drawn.\n",
    "\n",
    "We want players to calculate the probability of winning the big prize with the various numbers they play on a single ticket. After a discussion with the engineering team, they advise us on the below:\n",
    "\n",
    " - Inside the app, the user inputs six different numbers from 1 to 49.\n",
    " - Under the hood, the six numbers will come as a Python list, which will serve as the single input to our function.\n",
    " - The engineering team wants the function to print the probability value in a friendly way\n"
   ]
  },
  {
   "cell_type": "code",
   "execution_count": 5,
   "metadata": {
    "collapsed": true
   },
   "outputs": [],
   "source": [
    "def one_ticket_probability(array):\n",
    "    ''' \n",
    "    Function takes a list of 6 unique numbers and returns the probability\n",
    "    of winning in a readable manner.\n",
    "    \n",
    "    Parameter array: conbination for a six-number lottery\n",
    "    Precondition: array is a list with 6 unique numbers\n",
    "    '''\n",
    "    total_outcomes = combinations(49,6)\n",
    "    probability = (1 / total_outcomes)\n",
    "    return \"You have a {:%} chance of winning the big price.\".format(probability)\n"
   ]
  },
  {
   "cell_type": "code",
   "execution_count": 6,
   "metadata": {
    "collapsed": false
   },
   "outputs": [
    {
     "data": {
      "text/plain": [
       "'You have a 0.000007% chance of winning the big price.'"
      ]
     },
     "execution_count": 6,
     "metadata": {},
     "output_type": "execute_result"
    }
   ],
   "source": [
    "# Testing the function one_ticket_probability\n",
    "one_ticket_probability([5,25,34,32,15,41])"
   ]
  },
  {
   "cell_type": "markdown",
   "metadata": {},
   "source": [
    "## Historical Data check for Canada Lottery\n",
    "\n",
    "The engineering team would like to add a feature to compare their tickets against the historical lottery data and determine whether they would have ever won by now.\n",
    "\n",
    "The dataset is available in [Kaggle][1]\n",
    "[1]:https://www.kaggle.com/datascienceai/lottery-dataset\n",
    "\n",
    "###  Exploring the data"
   ]
  },
  {
   "cell_type": "code",
   "execution_count": 7,
   "metadata": {
    "collapsed": false
   },
   "outputs": [
    {
     "data": {
      "text/plain": [
       "'The data set has 3665 rows and 11 columns'"
      ]
     },
     "execution_count": 7,
     "metadata": {},
     "output_type": "execute_result"
    }
   ],
   "source": [
    "import pandas as pd\n",
    "\n",
    "lottery = pd.read_csv('649.csv')\n",
    "\n",
    "shape = lottery.shape\n",
    "\n",
    "\"The data set has {} rows and {} columns\".format(shape[0],shape[1])"
   ]
  },
  {
   "cell_type": "code",
   "execution_count": 8,
   "metadata": {
    "collapsed": false
   },
   "outputs": [
    {
     "data": {
      "text/html": [
       "<div>\n",
       "<style scoped>\n",
       "    .dataframe tbody tr th:only-of-type {\n",
       "        vertical-align: middle;\n",
       "    }\n",
       "\n",
       "    .dataframe tbody tr th {\n",
       "        vertical-align: top;\n",
       "    }\n",
       "\n",
       "    .dataframe thead th {\n",
       "        text-align: right;\n",
       "    }\n",
       "</style>\n",
       "<table border=\"1\" class=\"dataframe\">\n",
       "  <thead>\n",
       "    <tr style=\"text-align: right;\">\n",
       "      <th></th>\n",
       "      <th>PRODUCT</th>\n",
       "      <th>DRAW NUMBER</th>\n",
       "      <th>SEQUENCE NUMBER</th>\n",
       "      <th>DRAW DATE</th>\n",
       "      <th>NUMBER DRAWN 1</th>\n",
       "      <th>NUMBER DRAWN 2</th>\n",
       "      <th>NUMBER DRAWN 3</th>\n",
       "      <th>NUMBER DRAWN 4</th>\n",
       "      <th>NUMBER DRAWN 5</th>\n",
       "      <th>NUMBER DRAWN 6</th>\n",
       "      <th>BONUS NUMBER</th>\n",
       "    </tr>\n",
       "  </thead>\n",
       "  <tbody>\n",
       "    <tr>\n",
       "      <th>0</th>\n",
       "      <td>649</td>\n",
       "      <td>1</td>\n",
       "      <td>0</td>\n",
       "      <td>6/12/1982</td>\n",
       "      <td>3</td>\n",
       "      <td>11</td>\n",
       "      <td>12</td>\n",
       "      <td>14</td>\n",
       "      <td>41</td>\n",
       "      <td>43</td>\n",
       "      <td>13</td>\n",
       "    </tr>\n",
       "    <tr>\n",
       "      <th>1</th>\n",
       "      <td>649</td>\n",
       "      <td>2</td>\n",
       "      <td>0</td>\n",
       "      <td>6/19/1982</td>\n",
       "      <td>8</td>\n",
       "      <td>33</td>\n",
       "      <td>36</td>\n",
       "      <td>37</td>\n",
       "      <td>39</td>\n",
       "      <td>41</td>\n",
       "      <td>9</td>\n",
       "    </tr>\n",
       "    <tr>\n",
       "      <th>2</th>\n",
       "      <td>649</td>\n",
       "      <td>3</td>\n",
       "      <td>0</td>\n",
       "      <td>6/26/1982</td>\n",
       "      <td>1</td>\n",
       "      <td>6</td>\n",
       "      <td>23</td>\n",
       "      <td>24</td>\n",
       "      <td>27</td>\n",
       "      <td>39</td>\n",
       "      <td>34</td>\n",
       "    </tr>\n",
       "  </tbody>\n",
       "</table>\n",
       "</div>"
      ],
      "text/plain": [
       "   PRODUCT  DRAW NUMBER  SEQUENCE NUMBER  DRAW DATE  NUMBER DRAWN 1  \\\n",
       "0      649            1                0  6/12/1982               3   \n",
       "1      649            2                0  6/19/1982               8   \n",
       "2      649            3                0  6/26/1982               1   \n",
       "\n",
       "   NUMBER DRAWN 2  NUMBER DRAWN 3  NUMBER DRAWN 4  NUMBER DRAWN 5  \\\n",
       "0              11              12              14              41   \n",
       "1              33              36              37              39   \n",
       "2               6              23              24              27   \n",
       "\n",
       "   NUMBER DRAWN 6  BONUS NUMBER  \n",
       "0              43            13  \n",
       "1              41             9  \n",
       "2              39            34  "
      ]
     },
     "execution_count": 8,
     "metadata": {},
     "output_type": "execute_result"
    }
   ],
   "source": [
    "lottery.head(3)"
   ]
  },
  {
   "cell_type": "code",
   "execution_count": 9,
   "metadata": {
    "collapsed": false
   },
   "outputs": [
    {
     "data": {
      "text/html": [
       "<div>\n",
       "<style scoped>\n",
       "    .dataframe tbody tr th:only-of-type {\n",
       "        vertical-align: middle;\n",
       "    }\n",
       "\n",
       "    .dataframe tbody tr th {\n",
       "        vertical-align: top;\n",
       "    }\n",
       "\n",
       "    .dataframe thead th {\n",
       "        text-align: right;\n",
       "    }\n",
       "</style>\n",
       "<table border=\"1\" class=\"dataframe\">\n",
       "  <thead>\n",
       "    <tr style=\"text-align: right;\">\n",
       "      <th></th>\n",
       "      <th>PRODUCT</th>\n",
       "      <th>DRAW NUMBER</th>\n",
       "      <th>SEQUENCE NUMBER</th>\n",
       "      <th>DRAW DATE</th>\n",
       "      <th>NUMBER DRAWN 1</th>\n",
       "      <th>NUMBER DRAWN 2</th>\n",
       "      <th>NUMBER DRAWN 3</th>\n",
       "      <th>NUMBER DRAWN 4</th>\n",
       "      <th>NUMBER DRAWN 5</th>\n",
       "      <th>NUMBER DRAWN 6</th>\n",
       "      <th>BONUS NUMBER</th>\n",
       "    </tr>\n",
       "  </thead>\n",
       "  <tbody>\n",
       "    <tr>\n",
       "      <th>3662</th>\n",
       "      <td>649</td>\n",
       "      <td>3589</td>\n",
       "      <td>0</td>\n",
       "      <td>6/13/2018</td>\n",
       "      <td>6</td>\n",
       "      <td>22</td>\n",
       "      <td>24</td>\n",
       "      <td>31</td>\n",
       "      <td>32</td>\n",
       "      <td>34</td>\n",
       "      <td>16</td>\n",
       "    </tr>\n",
       "    <tr>\n",
       "      <th>3663</th>\n",
       "      <td>649</td>\n",
       "      <td>3590</td>\n",
       "      <td>0</td>\n",
       "      <td>6/16/2018</td>\n",
       "      <td>2</td>\n",
       "      <td>15</td>\n",
       "      <td>21</td>\n",
       "      <td>31</td>\n",
       "      <td>38</td>\n",
       "      <td>49</td>\n",
       "      <td>8</td>\n",
       "    </tr>\n",
       "    <tr>\n",
       "      <th>3664</th>\n",
       "      <td>649</td>\n",
       "      <td>3591</td>\n",
       "      <td>0</td>\n",
       "      <td>6/20/2018</td>\n",
       "      <td>14</td>\n",
       "      <td>24</td>\n",
       "      <td>31</td>\n",
       "      <td>35</td>\n",
       "      <td>37</td>\n",
       "      <td>48</td>\n",
       "      <td>17</td>\n",
       "    </tr>\n",
       "  </tbody>\n",
       "</table>\n",
       "</div>"
      ],
      "text/plain": [
       "      PRODUCT  DRAW NUMBER  SEQUENCE NUMBER  DRAW DATE  NUMBER DRAWN 1  \\\n",
       "3662      649         3589                0  6/13/2018               6   \n",
       "3663      649         3590                0  6/16/2018               2   \n",
       "3664      649         3591                0  6/20/2018              14   \n",
       "\n",
       "      NUMBER DRAWN 2  NUMBER DRAWN 3  NUMBER DRAWN 4  NUMBER DRAWN 5  \\\n",
       "3662              22              24              31              32   \n",
       "3663              15              21              31              38   \n",
       "3664              24              31              35              37   \n",
       "\n",
       "      NUMBER DRAWN 6  BONUS NUMBER  \n",
       "3662              34            16  \n",
       "3663              49             8  \n",
       "3664              48            17  "
      ]
     },
     "execution_count": 9,
     "metadata": {},
     "output_type": "execute_result"
    }
   ],
   "source": [
    "lottery.tail(3)"
   ]
  },
  {
   "cell_type": "markdown",
   "metadata": {},
   "source": [
    "The data set contains the historcial data for 3 665 drawing, from 1982 to 2018. We can find the six number drawn in the following six columns:\n",
    "\n",
    "- `NUMBER DRAWN 1`\n",
    "- `NUMBER DRAWN 2`\n",
    "- `NUMBER DRAWN 3`\n",
    "- `NUMBER DRAWN 4`\n",
    "- `NUMBER DRAWN 5`\n",
    "- `NUMBER DRAWN 6`\n",
    "\n",
    "## Function for Historical Data Check\n",
    "\n",
    "The engineering team wants us to write a function that prints:\n",
    "\n",
    "- the number of times the combination selected occurred in the Canada data set; and\n",
    "- the probability of winning the big prize in the next drawing with that combination.\n",
    "\n",
    "\n",
    "First, we will define a function that will help us extract all the winning 6 numbers from the data set."
   ]
  },
  {
   "cell_type": "code",
   "execution_count": 10,
   "metadata": {
    "collapsed": false
   },
   "outputs": [
    {
     "data": {
      "text/plain": [
       "0    {3, 41, 43, 12, 11, 14}\n",
       "1    {33, 36, 37, 39, 8, 41}\n",
       "2     {1, 6, 39, 23, 24, 27}\n",
       "3     {3, 9, 10, 43, 13, 20}\n",
       "4    {34, 5, 14, 47, 21, 31}\n",
       "dtype: object"
      ]
     },
     "execution_count": 10,
     "metadata": {},
     "output_type": "execute_result"
    }
   ],
   "source": [
    "def extract_numbers(row):\n",
    "    '''\n",
    "    Returns a set containing all the six winning numbers for each row of the lottery\n",
    "     \n",
    "    Parameter row: a row from the data set Lottery\n",
    "    '''\n",
    "    winning_number = {row[4],row[5],row[6],row[7],row[8],row[9]}\n",
    "    \n",
    "    return winning_number\n",
    "\n",
    "\n",
    "# Use extract_numbers function to extract all winning numbers.\n",
    "won_lottery = lottery.apply(extract_numbers,axis =1)\n",
    "    \n",
    "won_lottery.head()"
   ]
  },
  {
   "cell_type": "markdown",
   "metadata": {},
   "source": [
    "The next step is to define a function that takes the user numbers and check whether or not the user would have won the lottery by now."
   ]
  },
  {
   "cell_type": "code",
   "execution_count": 11,
   "metadata": {
    "collapsed": true
   },
   "outputs": [],
   "source": [
    "def check_historical_occurence(array,history=won_lottery):\n",
    "    '''\n",
    "    Returns the number of times the combination inputted by the user occurred in the past\n",
    "    \n",
    "    Parameter array: a combinatio of 6 numbers selected by the user\n",
    "    Precondition : array is a list of 6 unique numbers from 1 to 49\n",
    "    \n",
    "    Parameter history: Series containing the historical combination that won the lottery\n",
    "    Precondition : history is a Pandas Series with Python sets\n",
    "    Default value: won_lottery; historical records from 1982 to 2018\n",
    "    '''\n",
    "    user_input = set(array)\n",
    "    \n",
    "    won_in_past = history[history == user_input].count()\n",
    "    \n",
    "    if won_in_past == 0:\n",
    "        past = \"You current combination as never won the lottery.\" \n",
    "    elif won_in_past ==1:\n",
    "        past = \"You current combination won the lottery {} time in the past.\"\n",
    "    else:\n",
    "         past = \"You current combination won the lottery{} times in the past.\" \n",
    "    \n",
    "    probability_win_next = one_ticket_probability(array)\n",
    "    \n",
    "    return past.format(won_in_past), probability_win_next\n"
   ]
  },
  {
   "cell_type": "code",
   "execution_count": 12,
   "metadata": {
    "collapsed": false
   },
   "outputs": [
    {
     "data": {
      "text/plain": [
       "('You current combination as never won the lottery.',\n",
       " 'You have a 0.000007% chance of winning the big price.')"
      ]
     },
     "execution_count": 12,
     "metadata": {},
     "output_type": "execute_result"
    }
   ],
   "source": [
    "#testing the function check_historical_occurence\n",
    "check_historical_occurence([5,25,34,32,15,41])"
   ]
  },
  {
   "cell_type": "code",
   "execution_count": 13,
   "metadata": {
    "collapsed": false
   },
   "outputs": [
    {
     "data": {
      "text/plain": [
       "('You current combination won the lottery 1 time in the past.',\n",
       " 'You have a 0.000007% chance of winning the big price.')"
      ]
     },
     "execution_count": 13,
     "metadata": {},
     "output_type": "execute_result"
    }
   ],
   "source": [
    "# Test for a combination that won the lottery\n",
    "check_historical_occurence([3, 41, 43, 12, 11, 14])"
   ]
  },
  {
   "cell_type": "code",
   "execution_count": 14,
   "metadata": {
    "collapsed": false
   },
   "outputs": [
    {
     "data": {
      "text/plain": [
       "False    3665\n",
       "dtype: int64"
      ]
     },
     "execution_count": 14,
     "metadata": {},
     "output_type": "execute_result"
    }
   ],
   "source": [
    "# checking is there was any combination that won the lottery multiple tmes\n",
    "# use frozenset() to be able to check for duplicates\n",
    "won_check = [frozenset(row) for row in won_lottery]\n",
    "pd.Series(won_check).duplicated().value_counts()"
   ]
  },
  {
   "cell_type": "markdown",
   "metadata": {},
   "source": [
    "There has not been a combination that won the lottery more than once. therefore, we have tested all possible scenarios for the function `check_historical_occurence.`\n",
    "\n",
    "## Multi-ticket Probability\n",
    "\n",
    "Lottery addicts usually play more than one ticket on a single drawing, thinking that this might significantly increase their chances of wiining. \n",
    "\n",
    "In the next step, we will define a function to estimate better their chances of winning.\n",
    "\n"
   ]
  },
  {
   "cell_type": "code",
   "execution_count": 15,
   "metadata": {
    "collapsed": true
   },
   "outputs": [],
   "source": [
    "def multi_ticket_probability(n):\n",
    "    '''\n",
    "    Returns the probability of winning the Big price based on the number of ticket purchased\n",
    "    \n",
    "    Parameter n: number of tickets purchased\n",
    "    Precondition: n is an integer from 1 to 13 983 816\n",
    "    '''\n",
    "    total_combinations = combinations(49,6)\n",
    "    probability = (1 /total_combinations)*n\n",
    "    \n",
    "    return \"By purchasing {:,} tickets, you have {:%} chance of winning the Big Price.\".format(n,probability)\n"
   ]
  },
  {
   "cell_type": "code",
   "execution_count": 16,
   "metadata": {
    "collapsed": false
   },
   "outputs": [
    {
     "name": "stdout",
     "output_type": "stream",
     "text": [
      "By purchasing 1 tickets, you have 0.000007% chance of winning the Big Price.\n",
      "By purchasing 10 tickets, you have 0.000072% chance of winning the Big Price.\n",
      "By purchasing 100 tickets, you have 0.000715% chance of winning the Big Price.\n",
      "By purchasing 10,000 tickets, you have 0.071511% chance of winning the Big Price.\n",
      "By purchasing 1,000,000 tickets, you have 7.151124% chance of winning the Big Price.\n",
      "By purchasing 6,991,908 tickets, you have 50.000000% chance of winning the Big Price.\n",
      "By purchasing 13,983,816 tickets, you have 100.000000% chance of winning the Big Price.\n"
     ]
    }
   ],
   "source": [
    "# testing the function multi_ticket_probability\n",
    "\n",
    "test_case =[1, 10, 100, 10000, 1000000, 6991908, 13983816]\n",
    "\n",
    "for n in test_case:\n",
    "    print(multi_ticket_probability(n))"
   ]
  },
  {
   "cell_type": "markdown",
   "metadata": {},
   "source": [
    "## Probability of winning Smaller prizes\n",
    "\n",
    "In 6/49 lotteries, there are smaller prizes if a player's ticket match two, three, four, or five of the six numbers drawn. Consequently, the users might be interested in knowing the probability of having two, three, four, or five winning numbers.\n"
   ]
  },
  {
   "cell_type": "code",
   "execution_count": 19,
   "metadata": {
    "collapsed": true
   },
   "outputs": [],
   "source": [
    "def probability_less_6(n):\n",
    "    '''\n",
    "    Returns the probability of having at exactly n  winning numbers\n",
    "    \n",
    "    Parameter n: the number of matching numbers the user wants to calculate the probability\n",
    "    Precondition: n is an integer between 2 and 5\n",
    "    '''\n",
    "    ticket_combination = combinations(6,n)\n",
    "    combination_remaining = combinations(43,6-n)\n",
    "    succesful_outcomes = ticket_combination*combination_remaining\n",
    "    \n",
    "    total_outcomes = combinations(49,6)\n",
    "    \n",
    "    probability = succesful_outcomes/total_outcomes\n",
    "    \n",
    "    return \"You have {:%} chance of getting exactly {} winning numbers\".format(probability,n)\n",
    "    "
   ]
  },
  {
   "cell_type": "code",
   "execution_count": 21,
   "metadata": {
    "collapsed": false
   },
   "outputs": [
    {
     "name": "stdout",
     "output_type": "stream",
     "text": [
      "You have 13.237803% chance of getting exactly 2 winning numbers\n",
      "You have 1.765040% chance of getting exactly 3 winning numbers\n",
      "You have 0.096862% chance of getting exactly 4 winning numbers\n",
      "You have 0.001845% chance of getting exactly 5 winning numbers\n"
     ]
    }
   ],
   "source": [
    "# testing the function probability_less_6\n",
    "test_case = [2,3,4,5]\n",
    "\n",
    "for n in test_case:\n",
    "    print(probability_less_6(n))"
   ]
  },
  {
   "cell_type": "markdown",
   "metadata": {},
   "source": [
    "# Summary\n",
    "\n",
    "We have defined 4 functions that will help the users :\n",
    " - Find the probablity of winning the big prize for one ticket and any number of tickets, \n",
    " - Find the probability of having 2,3,4 or 5 winning numbers, a\n",
    " - Check whether their number combination has ever won the lottery.\n"
   ]
  }
 ],
 "metadata": {
  "kernelspec": {
   "display_name": "Python 3",
   "language": "python",
   "name": "python3"
  },
  "language_info": {
   "codemirror_mode": {
    "name": "ipython",
    "version": 3
   },
   "file_extension": ".py",
   "mimetype": "text/x-python",
   "name": "python",
   "nbconvert_exporter": "python",
   "pygments_lexer": "ipython3",
   "version": "3.4.3"
  }
 },
 "nbformat": 4,
 "nbformat_minor": 2
}
